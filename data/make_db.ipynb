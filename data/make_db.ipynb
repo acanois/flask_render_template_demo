{
 "cells": [
  {
   "cell_type": "code",
   "execution_count": null,
   "id": "42498942-97ec-4879-bc1d-4756c755797e",
   "metadata": {},
   "outputs": [],
   "source": [
    "import os\n",
    "import pandas as pd\n",
    "\n",
    "df = pd.read_csv('user_data.csv')\n",
    "\n",
    "df.head()\n",
    "\n",
    "from sqlalchemy import create_engine\n",
    "\n",
    "engine = create_engine('sqlite:///user_data.sqlite', echo=True)\n",
    "\n",
    "conn = engine.connect()\n",
    "\n",
    "sqlite_table = \"\""
   ]
  }
 ],
 "metadata": {
  "kernelspec": {
   "display_name": "utsa_bc",
   "language": "python",
   "name": "utsa_bc"
  },
  "language_info": {
   "codemirror_mode": {
    "name": "ipython",
    "version": 3
   },
   "file_extension": ".py",
   "mimetype": "text/x-python",
   "name": "python",
   "nbconvert_exporter": "python",
   "pygments_lexer": "ipython3",
   "version": "3.8.8"
  }
 },
 "nbformat": 4,
 "nbformat_minor": 5
}
